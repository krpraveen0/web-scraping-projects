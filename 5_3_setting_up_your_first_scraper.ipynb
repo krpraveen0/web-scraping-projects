{
  "nbformat": 4,
  "nbformat_minor": 0,
  "metadata": {
    "kernelspec": {
      "display_name": "Python 3",
      "language": "python",
      "name": "python3"
    },
    "language_info": {
      "codemirror_mode": {
        "name": "ipython",
        "version": 3
      },
      "file_extension": ".py",
      "mimetype": "text/x-python",
      "name": "python",
      "nbconvert_exporter": "python",
      "pygments_lexer": "ipython3",
      "version": "3.7.3"
    },
    "colab": {
      "name": "5_3_setting-up-your-first-scraper (1).ipynb",
      "provenance": [],
      "include_colab_link": true
    }
  },
  "cells": [
    {
      "cell_type": "markdown",
      "metadata": {
        "id": "view-in-github",
        "colab_type": "text"
      },
      "source": [
        "<a href=\"https://colab.research.google.com/github/krpraveen0/web-scraping-projects/blob/master/5_3_setting_up_your_first_scraper.ipynb\" target=\"_parent\"><img src=\"https://colab.research.google.com/assets/colab-badge.svg\" alt=\"Open In Colab\"/></a>"
      ]
    },
    {
      "cell_type": "markdown",
      "metadata": {
        "id": "UPepM09EXVbJ"
      },
      "source": [
        "# Set-up and Workflow"
      ]
    },
    {
      "cell_type": "markdown",
      "metadata": {
        "id": "BOQh72b_XVbO"
      },
      "source": [
        "### Importing the packages"
      ]
    },
    {
      "cell_type": "code",
      "metadata": {
        "id": "288uS6XVXVbP"
      },
      "source": [
        "# Load the packages\n",
        "import requests\n",
        "from bs4 import BeautifulSoup"
      ],
      "execution_count": null,
      "outputs": []
    },
    {
      "cell_type": "markdown",
      "metadata": {
        "id": "r9uUmYjLXVbQ"
      },
      "source": [
        "### Making a GET request"
      ]
    },
    {
      "cell_type": "code",
      "metadata": {
        "id": "ofAKrOgGXVbR",
        "outputId": "3351e32e-f78b-40b6-9a48-e85fc31bb574"
      },
      "source": [
        "# Defining the url of the site\n",
        "base_site = \"https://en.wikipedia.org/wiki/Music\"\n",
        "\n",
        "# Making a get request\n",
        "response = requests.get(base_site)\n",
        "response.status_code"
      ],
      "execution_count": null,
      "outputs": [
        {
          "data": {
            "text/plain": [
              "200"
            ]
          },
          "execution_count": 2,
          "metadata": {},
          "output_type": "execute_result"
        }
      ]
    },
    {
      "cell_type": "code",
      "metadata": {
        "id": "yNw6LBPyXVbR",
        "outputId": "75de4df2-bd06-484a-af70-d1c967ea9095"
      },
      "source": [
        "# Extracting the HTML\n",
        "html = response.content\n",
        "\n",
        "# Checking that the reply is indeed an HTML code by inspecting the first 100 symbols\n",
        "html[:100]"
      ],
      "execution_count": null,
      "outputs": [
        {
          "data": {
            "text/plain": [
              "b'<!DOCTYPE html>\\n<html class=\"client-nojs\" lang=\"en\" dir=\"ltr\">\\n<head>\\n<meta charset=\"UTF-8\"/>\\n<title'"
            ]
          },
          "execution_count": 3,
          "metadata": {},
          "output_type": "execute_result"
        }
      ]
    },
    {
      "cell_type": "markdown",
      "metadata": {
        "id": "YHy_ZLHAXVbS"
      },
      "source": [
        "### Making the soup"
      ]
    },
    {
      "cell_type": "code",
      "metadata": {
        "id": "P-KzPZqsXVbS"
      },
      "source": [
        "# Convert HTML to a BeautifulSoup object. This will allow us to parse out content from the HTML more easily.\n",
        "# Using the default parser as it is included in Python\n",
        "soup = BeautifulSoup(html, \"html.parser\")"
      ],
      "execution_count": null,
      "outputs": []
    },
    {
      "cell_type": "markdown",
      "metadata": {
        "id": "RKKOpXOqXVbT"
      },
      "source": [
        "### Exporting the HTML to a file"
      ]
    },
    {
      "cell_type": "code",
      "metadata": {
        "id": "rUJ24DiZXVbT"
      },
      "source": [
        "# It is extremely useful to be able to check this file when searching where some info is located\n",
        "# or to see how was the document parsed\n",
        "\n",
        "# Exporting the HTML to a file\n",
        "with open('Wiki_response.html', 'wb') as file:\n",
        "    file.write(soup.prettify('utf-8'))\n",
        "\n",
        "\n",
        "# the 'with' statement is shorthand for a 'try-finally' block\n",
        "# open is function for opening/creating a file to edit\n",
        "# the 'wb' argument signifies the mode in which to edit the file - Writing in Bytes format\n",
        "# .prettify() modifies the HTML code with additional indentations for better readability"
      ],
      "execution_count": null,
      "outputs": []
    }
  ]
}